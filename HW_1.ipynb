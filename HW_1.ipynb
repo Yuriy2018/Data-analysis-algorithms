{
  "nbformat": 4,
  "nbformat_minor": 0,
  "metadata": {
    "colab": {
      "name": "HW_1.ipynb",
      "provenance": []
    },
    "kernelspec": {
      "name": "python3",
      "display_name": "Python 3"
    }
  },
  "cells": [
    {
      "cell_type": "markdown",
      "metadata": {
        "id": "Hq_Jgev31uxu"
      },
      "source": [
        "###Урок 1. Алгоритм линейной регрессии. Градиентный спуск"
      ]
    },
    {
      "cell_type": "markdown",
      "metadata": {
        "id": "rGWVkmXu15u-"
      },
      "source": [
        "####Задача 1: Подберите скорость обучения (alpha) и количество итераций."
      ]
    },
    {
      "cell_type": "code",
      "metadata": {
        "id": "8N9wt7U-vMFL"
      },
      "source": [
        "import numpy as np\n",
        "import matplotlib.pyplot as plt\n",
        "X = np.array([[1,1,1,1,1,1,1,1,1,1],\n",
        "             [1,1,2,1,3,0,5,10,1,2]])\n",
        "y = [45,55,50,59,65,35,75,80,50,60]"
      ],
      "execution_count": 29,
      "outputs": []
    },
    {
      "cell_type": "code",
      "metadata": {
        "id": "r16Rfrw0vU8r"
      },
      "source": [
        "def calc_mse(y,y_pred):\n",
        "  return ((y - y_pred) ** 2).mean()"
      ],
      "execution_count": 21,
      "outputs": []
    },
    {
      "cell_type": "code",
      "metadata": {
        "id": "ektOXGcqvWlr",
        "outputId": "e2b99679-f356-4912-b723-4f13ad6e4ab1",
        "colab": {
          "base_uri": "https://localhost:8080/"
        }
      },
      "source": [
        "n = X.shape[1]\n",
        "alpha = 1e-4 \n",
        "W = np.array([1, 0.5])\n",
        "W, alpha"
      ],
      "execution_count": 22,
      "outputs": [
        {
          "output_type": "execute_result",
          "data": {
            "text/plain": [
              "(array([1. , 0.5]), 0.0001)"
            ]
          },
          "metadata": {
            "tags": []
          },
          "execution_count": 22
        }
      ]
    },
    {
      "cell_type": "code",
      "metadata": {
        "id": "nrmj2LvSvYAp"
      },
      "source": [
        "def Model(alpha,steps,W,printFilter=100):\n",
        "  for i in range(steps):\n",
        "    y_pred = np.dot(W, X)\n",
        "    err = calc_mse(y, y_pred)\n",
        "    for ii in range(W.shape[0]):\n",
        "      W[ii] -=alpha * (1/n * 2 * np.sum(X[ii] * (y_pred - y)))\n",
        "      if i % printFilter == 0:\n",
        "        print(i, W, err)"
      ],
      "execution_count": 23,
      "outputs": []
    },
    {
      "cell_type": "code",
      "metadata": {
        "id": "yrBI1QCXvZxZ",
        "outputId": "5b6cfd5e-8434-4434-8231-dc381fdd89df",
        "colab": {
          "base_uri": "https://localhost:8080/"
        }
      },
      "source": [
        "alpha = 1e-4\n",
        "steps = 1000000\n",
        "printFilter = 100000\n",
        "Model(alpha,steps,W,printFilter)"
      ],
      "execution_count": 24,
      "outputs": [
        {
          "output_type": "stream",
          "text": [
            "0 [1.01102 0.5    ] 3173.15\n",
            "0 [1.01102 0.534  ] 3173.15\n",
            "100000 [47.23079874  3.91096251] 45.93750097148897\n",
            "100000 [47.23079874  3.91096249] 45.93750097148897\n",
            "200000 [47.23214282  3.91071429] 45.93750000000002\n",
            "200000 [47.23214282  3.91071429] 45.93750000000002\n",
            "300000 [47.23214286  3.91071429] 45.93749999999997\n",
            "300000 [47.23214286  3.91071429] 45.93749999999997\n",
            "400000 [47.23214286  3.91071429] 45.93749999999997\n",
            "400000 [47.23214286  3.91071429] 45.93749999999997\n",
            "500000 [47.23214286  3.91071429] 45.93749999999997\n",
            "500000 [47.23214286  3.91071429] 45.93749999999997\n",
            "600000 [47.23214286  3.91071429] 45.93749999999997\n",
            "600000 [47.23214286  3.91071429] 45.93749999999997\n",
            "700000 [47.23214286  3.91071429] 45.93749999999997\n",
            "700000 [47.23214286  3.91071429] 45.93749999999997\n",
            "800000 [47.23214286  3.91071429] 45.93749999999997\n",
            "800000 [47.23214286  3.91071429] 45.93749999999997\n",
            "900000 [47.23214286  3.91071429] 45.93749999999997\n",
            "900000 [47.23214286  3.91071429] 45.93749999999997\n"
          ],
          "name": "stdout"
        }
      ]
    },
    {
      "cell_type": "markdown",
      "metadata": {
        "id": "D3drNx_c03VJ"
      },
      "source": [
        "#### Все остальные действия связанные с изменением alpha и количество иттераций лучшего результата не дало. Минимальный размер ошибки составил: 45.93749999999997"
      ]
    },
    {
      "cell_type": "code",
      "metadata": {
        "id": "ShY8DJjY0XB_",
        "outputId": "6baa1e45-212e-48d6-cd3f-43159d148fa4",
        "colab": {
          "base_uri": "https://localhost:8080/",
          "height": 283
        }
      },
      "source": [
        "a= W[1]\n",
        "b = W[0]\n",
        "plt.scatter(X[1,:],y)\n",
        "# y = a*x + b\n",
        "plt.plot(X[1, :], a*X[1, :] + b, label='model_1')\n",
        "plt.legend(loc=\"best\")"
      ],
      "execution_count": 30,
      "outputs": [
        {
          "output_type": "execute_result",
          "data": {
            "text/plain": [
              "<matplotlib.legend.Legend at 0x7f9de35400f0>"
            ]
          },
          "metadata": {
            "tags": []
          },
          "execution_count": 30
        },
        {
          "output_type": "display_data",
          "data": {
            "image/png": "[encoded data removed]",
            "text/plain": [
              "<Figure size 432x288 with 1 Axes>"
            ]
          },
          "metadata": {
            "tags": [],
            "needs_background": "light"
          }
        }
      ]
    }
  ]
}