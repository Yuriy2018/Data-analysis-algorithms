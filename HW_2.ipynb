{
  "nbformat": 4,
  "nbformat_minor": 0,
  "metadata": {
    "colab": {
      "name": "HW_2.ipynb",
      "provenance": []
    },
    "kernelspec": {
      "name": "python3",
      "display_name": "Python 3"
    }
  },
  "cells": [
    {
      "cell_type": "markdown",
      "metadata": {
        "id": "Ld6jizQXMh6u"
      },
      "source": [
        "###Урок 2. Масштабирование признаков. L1- и L2-регуляризация. Стохастический градиентный спуск"
      ]
    },
    {
      "cell_type": "markdown",
      "metadata": {
        "id": "7wrRrvdzMk8H"
      },
      "source": [
        "####1. Сгенерировать датасет при помощи sklearn.datasets.make_regression и обучить линейную модель при помощи градиентного и стохастического градиентного спуска. Нанести среднеквадратичную ошибку для обоих методов на один график, сделать выводы о разнице скорости сходимости каждого из методов."
      ]
    },
    {
      "cell_type": "code",
      "metadata": {
        "id": "ohuUah9UMjFM"
      },
      "source": [
        "# Скоро будет решение.."
      ],
      "execution_count": null,
      "outputs": []
    },
    {
      "cell_type": "markdown",
      "metadata": {
        "id": "LNtjb0CbMm5l"
      },
      "source": [
        "####2. Модифицировать решение первого задания путем добавления 𝐿2 -регуляризации и сравнить результаты."
      ]
    },
    {
      "cell_type": "code",
      "metadata": {
        "id": "okboAmxqMpGr"
      },
      "source": [
        "# Скоро будет решение.."
      ],
      "execution_count": null,
      "outputs": []
    },
    {
      "cell_type": "markdown",
      "metadata": {
        "id": "28Rl9gUpMtaU"
      },
      "source": [
        "####3 [опция]. Модернизировать решение задания 2, заменив L2 регуляризацию на L1 регуляризацию."
      ]
    },
    {
      "cell_type": "code",
      "metadata": {
        "id": "3R8jYTEvMv7p"
      },
      "source": [
        "# Скоро будет решение.."
      ],
      "execution_count": null,
      "outputs": []
    }
  ]
}